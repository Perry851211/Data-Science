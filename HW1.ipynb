{
 "cells": [
  {
   "cell_type": "code",
   "execution_count": 8,
   "metadata": {},
   "outputs": [
    {
     "name": "stdout",
     "output_type": "stream",
     "text": [
      "624347\n",
      "580652\n"
     ]
    },
    {
     "data": {
      "text/plain": [
       "Text(0, 0.5, 'comment_count')"
      ]
     },
     "execution_count": 8,
     "metadata": {},
     "output_type": "execute_result"
    },
    {
     "data": {
      "image/png": "[encoded data removed]",
      "text/plain": [
       "<Figure size 432x288 with 1 Axes>"
      ]
     },
     "metadata": {
      "needs_background": "light"
     },
     "output_type": "display_data"
    }
   ],
   "source": [
    "import csv, os\n",
    "import matplotlib.pyplot as plt\n",
    "import pandas as pd\n",
    "import numpy as np\n",
    "\n",
    "path = 'C:/Users/Perry/Downloads/drive-download-20190320T121356Z-001'\n",
    "csvFile = []\n",
    "for i in range(1, 10):\n",
    "    fh = open(os.path.join(path, '20180'+str(i)+'_data.csv'), 'r', encoding = 'utf-8')\n",
    "    csvFile.append(pd.read_csv(fh))\n",
    "    fh.close()\n",
    "for i in range(11, 13):\n",
    "    fh = open(os.path.join(path, '2018'+str(i)+'_data.csv'), 'r', encoding = 'utf-8')\n",
    "    csvFile.append(pd.read_csv(fh))\n",
    "    fh.close()\n",
    "\n",
    "#csvFile is a list\n",
    "file = pd.concat(csvFile, axis = 0)\n",
    "#print(file)\n",
    "select = file[file.loc[:, 'Page_Name'] == '韓國瑜']\n",
    "comment_count1 = sum(select['Comment_Count'])\n",
    "print(comment_count1)\n",
    "select = file[file.loc[:, 'Page_Name'] == '陳其邁 Chen Chi-Mai']\n",
    "comment_count2 = sum(select['Comment_Count'])\n",
    "print(comment_count2)\n",
    "\n",
    "candidate = ['Han kuo-yu', 'Chen Chi-Mai']\n",
    "count = [comment_count1, comment_count2]\n",
    "plt.bar(candidate, count)\n",
    "plt.xlabel('candidate')\n",
    "plt.ylabel('comment_count')"
   ]
  },
  {
   "cell_type": "code",
   "execution_count": 7,
   "metadata": {},
   "outputs": [
    {
     "name": "stdout",
     "output_type": "stream",
     "text": [
      "4012111\n",
      "2572515\n"
     ]
    },
    {
     "data": {
      "text/plain": [
       "Text(0, 0.5, 'like_count')"
      ]
     },
     "execution_count": 7,
     "metadata": {},
     "output_type": "execute_result"
    },
    {
     "data": {
      "image/png": "[encoded data removed]",
      "text/plain": [
       "<Figure size 432x288 with 1 Axes>"
      ]
     },
     "metadata": {
      "needs_background": "light"
     },
     "output_type": "display_data"
    }
   ],
   "source": [
    "select = file[file.loc[:, 'Page_Name'] == '韓國瑜']\n",
    "like_count1 = sum(select['LIKE_COUNT'])\n",
    "print(like_count1)\n",
    "select = file[file.loc[:, 'Page_Name'] == '陳其邁 Chen Chi-Mai']\n",
    "like_count2 = sum(select['LIKE_COUNT'])\n",
    "print(like_count2)\n",
    "\n",
    "candidate = ['Han kuo-yu', 'Chen Chi-Mai']\n",
    "count = [like_count1, like_count2]\n",
    "plt.bar(candidate, count)\n",
    "plt.xlabel('candidate')\n",
    "plt.ylabel('like_count')"
   ]
  },
  {
   "cell_type": "code",
   "execution_count": 12,
   "metadata": {},
   "outputs": [
    {
     "ename": "SyntaxError",
     "evalue": "invalid syntax (<ipython-input-12-991260e3a7ca>, line 1)",
     "output_type": "error",
     "traceback": [
      "\u001b[1;36m  File \u001b[1;32m\"<ipython-input-12-991260e3a7ca>\"\u001b[1;36m, line \u001b[1;32m1\u001b[0m\n\u001b[1;33m    jupyter nbconvert --to html notebook.ipynb\u001b[0m\n\u001b[1;37m                    ^\u001b[0m\n\u001b[1;31mSyntaxError\u001b[0m\u001b[1;31m:\u001b[0m invalid syntax\n"
     ]
    }
   ],
   "source": [
    "jupyter nbconvert --to html notebook.ipynb"
   ]
  }
 ],
 "metadata": {
  "kernelspec": {
   "display_name": "Python 3",
   "language": "python",
   "name": "python3"
  },
  "language_info": {
   "codemirror_mode": {
    "name": "ipython",
    "version": 3
   },
   "file_extension": ".py",
   "mimetype": "text/x-python",
   "name": "python",
   "nbconvert_exporter": "python",
   "pygments_lexer": "ipython3",
   "version": "3.7.1"
  }
 },
 "nbformat": 4,
 "nbformat_minor": 2
}
